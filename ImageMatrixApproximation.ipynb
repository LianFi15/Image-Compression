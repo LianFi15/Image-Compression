{
  "nbformat": 4,
  "nbformat_minor": 0,
  "metadata": {
    "colab": {
      "provenance": []
    },
    "kernelspec": {
      "name": "python3",
      "display_name": "Python 3"
    },
    "language_info": {
      "name": "python"
    }
  },
  "cells": [
    {
      "cell_type": "code",
      "source": [
        "from PIL import Image\n",
        "import numpy as np"
      ],
      "metadata": {
        "id": "jKMgg7V_HNRV"
      },
      "execution_count": null,
      "outputs": []
    },
    {
      "cell_type": "code",
      "source": [
        "import numpy as np\n",
        "from PIL import Image\n",
        "\n",
        "def create_image(img, red, blue, green, k):\n",
        "    \"\"\"\n",
        "    Creates a new image by combining red, blue, and green channels and saves it.\n",
        "\n",
        "    Parameters:\n",
        "    - img: Original image as a numpy array.\n",
        "    - red: Red channel values for the new image.\n",
        "    - blue: Blue channel values for the new image.\n",
        "    - green: Green channel values for the new image.\n",
        "    - k: Parameter used for naming the output image.\n",
        "\n",
        "    Returns:\n",
        "    None\n",
        "\n",
        "    Saves the new image as '{k}lotus.jpg'.\n",
        "    \"\"\"\n",
        "    # Convert the original image to a numpy array\n",
        "    pixels = np.array(img)\n",
        "\n",
        "    # Create an empty image with the same dimensions as the original image\n",
        "    image = np.zeros((pixels.shape[0], pixels.shape[1], 3))\n",
        "\n",
        "    # Assign red, green, and blue values to the corresponding channels\n",
        "    image[:, :, 0] = red\n",
        "    image[:, :, 1] = green\n",
        "    image[:, :, 2] = blue\n",
        "\n",
        "    # Convert the resulting array to an image\n",
        "    image = Image.fromarray(image.astype('uint8'))\n",
        "\n",
        "    # Save the new image with a name based on the parameter k\n",
        "    image.save(str(k) + \"lotus.jpg\")"
      ],
      "metadata": {
        "id": "eUmjxf70HJg0"
      },
      "execution_count": null,
      "outputs": []
    },
    {
      "cell_type": "code",
      "source": [
        "def color_matrix(image):\n",
        "    \"\"\"\n",
        "    Extracts color channels (red, blue, and green) from an image.\n",
        "\n",
        "    Parameters:\n",
        "    - image: Input image as a numpy array.\n",
        "\n",
        "    Returns:\n",
        "    - red: Numpy array representing the red channel.\n",
        "    - blue: Numpy array representing the blue channel.\n",
        "    - green: Numpy array representing the green channel.\n",
        "    \"\"\"\n",
        "    # Convert the input image to a numpy array\n",
        "    pixels = np.array(image)\n",
        "\n",
        "    # Extract red, blue, and green channels from the image\n",
        "    red = pixels[:, :, 0]\n",
        "    blue = pixels[:, :, 1]\n",
        "    green = pixels[:, :, 2]\n",
        "\n",
        "    # Return the individual color channels\n",
        "    return red, blue, green"
      ],
      "metadata": {
        "id": "35hWuFyiHPnY"
      },
      "execution_count": null,
      "outputs": []
    },
    {
      "cell_type": "code",
      "source": [
        "def approximation(k, SVD):\n",
        "    \"\"\"\n",
        "    Perform matrix approximation using the Singular Value Decomposition (SVD) method.\n",
        "\n",
        "    Parameters:\n",
        "    - k: Number of singular values to consider for approximation.\n",
        "    - SVD: Tuple containing the result of the SVD (U, Sigma, Vt) of a matrix.\n",
        "\n",
        "    Returns:\n",
        "    - error: Matrix approximation error using the selected k singular values.\n",
        "    \"\"\"\n",
        "    # Create a matrix for approximation with zeros\n",
        "    mat = np.zeros((SVD[0].shape[0], SVD[2].shape[0]))\n",
        "\n",
        "    # Populate the diagonal of the matrix with the first k singular values\n",
        "    for i in range(k):\n",
        "        mat[i][i] = SVD[1][i]\n",
        "\n",
        "    # Calculate the approximation error matrix\n",
        "    error = np.matmul(mat, SVD[2])\n",
        "    error = np.matmul(SVD[0], error)\n",
        "\n",
        "    # Return the approximation error matrix\n",
        "    return error"
      ],
      "metadata": {
        "id": "L20P1okVHSLx"
      },
      "execution_count": null,
      "outputs": []
    },
    {
      "cell_type": "code",
      "source": [
        "def error_level(singular_val, k):\n",
        "    \"\"\"\n",
        "    Calculate the relative error level based on singular values.\n",
        "\n",
        "    Parameters:\n",
        "    - singular_val: List or array of singular values.\n",
        "    - k: Number of singular values to consider.\n",
        "\n",
        "    Returns:\n",
        "    - res: Relative error level calculated as the sum of squared singular values\n",
        "           beyond the kth value divided by the sum of all squared singular values.\n",
        "    \"\"\"\n",
        "    # Square the singular values\n",
        "    singular_val = squared(singular_val)\n",
        "\n",
        "    # Calculate the relative error level\n",
        "    res = sum(singular_val[k+1:]) / sum(singular_val)\n",
        "\n",
        "    # Return the relative error level\n",
        "    return res"
      ],
      "metadata": {
        "id": "LiJS-R8tHUm_"
      },
      "execution_count": null,
      "outputs": []
    },
    {
      "cell_type": "code",
      "source": [
        "def squared(lst):\n",
        "    return [i ** 2 for i in lst]"
      ],
      "metadata": {
        "id": "4G9fhy_YHZzB"
      },
      "execution_count": null,
      "outputs": []
    },
    {
      "cell_type": "code",
      "execution_count": null,
      "metadata": {
        "id": "uDMMOPFdGw8R"
      },
      "outputs": [],
      "source": [
        "from PIL import Image\n",
        "import numpy as np\n",
        "\n",
        "def main():\n",
        "    \"\"\"\n",
        "    Main function for image processing using Singular Value Decomposition (SVD) and matrix approximation.\n",
        "\n",
        "    Reads an image, extracts color channels, performs SVD on each channel,\n",
        "    approximates the image with varying levels of approximation (k), and prints\n",
        "    the relative error levels for each k.\n",
        "    \"\"\"\n",
        "    # Open the image file\n",
        "    img = Image.open(\"lotus.jpg\")\n",
        "\n",
        "    # Extract red, green, and blue channels from the image\n",
        "    red, green, blue = color_matrix(img)\n",
        "\n",
        "    # Perform Singular Value Decomposition (SVD) on each color channel\n",
        "    redSVD = np.linalg.svd(red)\n",
        "    blueSVD = np.linalg.svd(blue)\n",
        "    greenSVD = np.linalg.svd(green)\n",
        "\n",
        "    # Dictionary to store error levels for different values of k\n",
        "    errors = dict()\n",
        "\n",
        "    # List of steps (k values) for approximation\n",
        "    steps = [1]\n",
        "\n",
        "    # Iterate through each value of k\n",
        "    for k in steps:\n",
        "        # Perform approximation for each color channel\n",
        "        rk = approximation(k, redSVD)\n",
        "        bk = approximation(k, blueSVD)\n",
        "        gk = approximation(k, greenSVD)\n",
        "\n",
        "        # Create and save the approximated image\n",
        "        create_image(img, rk, bk, gk, k)\n",
        "\n",
        "        # Calculate and store the relative error level for red channel\n",
        "        errors[k] = error_level(redSVD[1], k)\n",
        "\n",
        "    # Print the relative error levels for each value of k\n",
        "    for k in errors:\n",
        "        print(k, errors[k])"
      ]
    },
    {
      "cell_type": "code",
      "source": [
        "# Run the main function\n",
        "main()"
      ],
      "metadata": {
        "id": "DDAaYD7fHcSc"
      },
      "execution_count": null,
      "outputs": []
    }
  ]
}